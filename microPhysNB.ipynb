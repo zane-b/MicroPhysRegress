{
 "cells": [
  {
   "cell_type": "code",
   "execution_count": 1,
   "id": "e4f29dab",
   "metadata": {},
   "outputs": [],
   "source": [
    "import numpy as np\n",
    "import matplotlib.pyplot as plt\n",
    "import netCDF4 as nc\n",
    "import pandas as pd\n",
    "import seaborn as sb"
   ]
  },
  {
   "cell_type": "code",
   "execution_count": 2,
   "id": "9316aad4",
   "metadata": {},
   "outputs": [],
   "source": [
    "path='/gpfs/alpine/cli900/world-shared/users/zaneb/microPhys/kessler_ml_data_flat.nc'\n",
    "ds=nc.Dataset(path)"
   ]
  },
  {
   "cell_type": "code",
   "execution_count": 3,
   "id": "e2b7f708",
   "metadata": {},
   "outputs": [
    {
     "name": "stdout",
     "output_type": "stream",
     "text": [
      "<class 'netCDF4._netCDF4.Dataset'>\n",
      "root group (NETCDF4 data model, file format HDF5):\n",
      "    dimensions(sizes): nsamples(24000000), three(3)\n",
      "    variables(dimensions): float64 ml_in_theta(nsamples, three), float64 ml_in_qc(nsamples, three), float64 ml_in_qv(nsamples, three), float64 ml_in_qr(nsamples, three), float64 ml_in_rho_dry(nsamples, three), float64 ml_in_z(nsamples), float64 ml_in_exner(nsamples, three), float64 ml_out_theta(nsamples), float64 ml_out_qv(nsamples), float64 ml_out_qc(nsamples), float64 ml_out_qr(nsamples)\n",
      "    groups: \n"
     ]
    }
   ],
   "source": [
    "print(ds)"
   ]
  },
  {
   "cell_type": "code",
   "execution_count": 4,
   "id": "8280e02f",
   "metadata": {},
   "outputs": [
    {
     "name": "stdout",
     "output_type": "stream",
     "text": [
      "<class 'netCDF4._netCDF4.Dimension'>: name = 'nsamples', size = 24000000\n",
      "<class 'netCDF4._netCDF4.Dimension'>: name = 'three', size = 3\n"
     ]
    }
   ],
   "source": [
    "for dim in ds.dimensions.values():\n",
    "    print(dim)"
   ]
  },
  {
   "cell_type": "code",
   "execution_count": 5,
   "id": "984d25c4",
   "metadata": {},
   "outputs": [
    {
     "name": "stdout",
     "output_type": "stream",
     "text": [
      "<class 'netCDF4._netCDF4.Variable'>\n",
      "float64 ml_in_theta(nsamples, three)\n",
      "    _FillValue: nan\n",
      "unlimited dimensions: \n",
      "current shape = (24000000, 3)\n",
      "filling on\n",
      "<class 'netCDF4._netCDF4.Variable'>\n",
      "float64 ml_in_qc(nsamples, three)\n",
      "    _FillValue: nan\n",
      "unlimited dimensions: \n",
      "current shape = (24000000, 3)\n",
      "filling on\n",
      "<class 'netCDF4._netCDF4.Variable'>\n",
      "float64 ml_in_qv(nsamples, three)\n",
      "    _FillValue: nan\n",
      "unlimited dimensions: \n",
      "current shape = (24000000, 3)\n",
      "filling on\n",
      "<class 'netCDF4._netCDF4.Variable'>\n",
      "float64 ml_in_qr(nsamples, three)\n",
      "    _FillValue: nan\n",
      "unlimited dimensions: \n",
      "current shape = (24000000, 3)\n",
      "filling on\n",
      "<class 'netCDF4._netCDF4.Variable'>\n",
      "float64 ml_in_rho_dry(nsamples, three)\n",
      "    _FillValue: nan\n",
      "unlimited dimensions: \n",
      "current shape = (24000000, 3)\n",
      "filling on\n",
      "<class 'netCDF4._netCDF4.Variable'>\n",
      "float64 ml_in_z(nsamples)\n",
      "    _FillValue: nan\n",
      "unlimited dimensions: \n",
      "current shape = (24000000,)\n",
      "filling on\n",
      "<class 'netCDF4._netCDF4.Variable'>\n",
      "float64 ml_in_exner(nsamples, three)\n",
      "    _FillValue: nan\n",
      "unlimited dimensions: \n",
      "current shape = (24000000, 3)\n",
      "filling on\n",
      "<class 'netCDF4._netCDF4.Variable'>\n",
      "float64 ml_out_theta(nsamples)\n",
      "    _FillValue: nan\n",
      "unlimited dimensions: \n",
      "current shape = (24000000,)\n",
      "filling on\n",
      "<class 'netCDF4._netCDF4.Variable'>\n",
      "float64 ml_out_qv(nsamples)\n",
      "    _FillValue: nan\n",
      "unlimited dimensions: \n",
      "current shape = (24000000,)\n",
      "filling on\n",
      "<class 'netCDF4._netCDF4.Variable'>\n",
      "float64 ml_out_qc(nsamples)\n",
      "    _FillValue: nan\n",
      "unlimited dimensions: \n",
      "current shape = (24000000,)\n",
      "filling on\n",
      "<class 'netCDF4._netCDF4.Variable'>\n",
      "float64 ml_out_qr(nsamples)\n",
      "    _FillValue: nan\n",
      "unlimited dimensions: \n",
      "current shape = (24000000,)\n",
      "filling on\n"
     ]
    }
   ],
   "source": [
    "for var in ds.variables.values():\n",
    "    print(var)\n",
    "    "
   ]
  },
  {
   "cell_type": "code",
   "execution_count": 6,
   "id": "680e150f",
   "metadata": {},
   "outputs": [
    {
     "name": "stdout",
     "output_type": "stream",
     "text": [
      "[[300.61109288 300.61109288 301.85582406]\n",
      " [300.61109288 300.61109288 301.85582406]\n",
      " [300.61109288 300.61109288 301.85582406]\n",
      " [300.61109288 300.61109288 301.85582406]\n",
      " [300.61109288 300.61109288 301.85582406]]\n"
     ]
    }
   ],
   "source": [
    "print(ds['ml_in_theta'][1:6,])"
   ]
  },
  {
   "cell_type": "code",
   "execution_count": 7,
   "id": "0c7fc760",
   "metadata": {},
   "outputs": [
    {
     "name": "stdout",
     "output_type": "stream",
     "text": [
      "7.828319084122233e-06 0.016286972793109235\n",
      "\n"
     ]
    }
   ],
   "source": [
    "print(np.min(ds['ml_out_qv']),np.max(ds['ml_out_qv']))\n",
    "print()"
   ]
  },
  {
   "cell_type": "code",
   "execution_count": 8,
   "id": "e1e20ce2",
   "metadata": {},
   "outputs": [
    {
     "name": "stdout",
     "output_type": "stream",
     "text": [
      "2.491729835786887e-05 0.00041271428321975755 0.0 0.020895973256408917\n"
     ]
    }
   ],
   "source": [
    "var='ml_out_qr'\n",
    "col=2\n",
    "\n",
    "print(np.mean(ds[var]), np.std(ds[var]),np.min(ds[var]), np.max((ds[var])))"
   ]
  },
  {
   "cell_type": "code",
   "execution_count": 9,
   "id": "c3231a91",
   "metadata": {},
   "outputs": [
    {
     "data": {
      "text/plain": [
       "<AxesSubplot:>"
      ]
     },
     "execution_count": 9,
     "metadata": {},
     "output_type": "execute_result"
    },
    {
     "data": {
      "image/png": "[encoded data removed]",
      "text/plain": [
       "<Figure size 720x720 with 2 Axes>"
      ]
     },
     "metadata": {
      "needs_background": "light"
     },
     "output_type": "display_data"
    }
   ],
   "source": [
    "num1=0\n",
    "num2=24000000\n",
    "\n",
    "inputs={ 'theta': ds['ml_in_theta'][num1:num2,1],\n",
    "       'qc': ds['ml_in_qc'][num1:num2,1],\n",
    "       'qv': ds['ml_in_qv'][num1:num2,1],\n",
    "       'qr': ds['ml_in_qr'][num1:num2,1],\n",
    "       'rho_dry': ds['ml_in_rho_dry'][num1:num2,1],\n",
    "       'z': ds['ml_in_z'][num1:num2],\n",
    "       'exner': ds['ml_in_exner'][num1:num2,1],\n",
    "       'theta_out': ds['ml_out_theta'][num1:num2],\n",
    "       'qc_out': ds['ml_out_qc'][num1:num2],\n",
    "       'qv_out': ds['ml_out_qv'][num1:num2],\n",
    "       'qr_out': ds['ml_out_qr'][num1:num2]}\n",
    "\n",
    "df=pd.DataFrame(inputs,columns=['theta','qc','qv','qr','rho_dry','z','exner','theta_out','qc_out','qv_out','qr_out'])\n",
    "\n",
    "plt.figure(figsize=(10,10))\n",
    "sb.heatmap(df.corr(),annot=True, cmap='coolwarm')"
   ]
  },
  {
   "cell_type": "code",
   "execution_count": 10,
   "id": "4782eb26",
   "metadata": {},
   "outputs": [
    {
     "name": "stdout",
     "output_type": "stream",
     "text": [
      "              theta        qc        qv        qr   rho_dry         z  \\\n",
      "theta      1.000000 -0.053497 -0.505912 -0.043525 -0.830402  0.917968   \n",
      "qc        -0.053497  1.000000  0.037600  0.333866  0.042368 -0.051043   \n",
      "qv        -0.505912  0.037600  1.000000  0.046578  0.852126 -0.754595   \n",
      "qr        -0.043525  0.333866  0.046578  1.000000  0.048608 -0.051834   \n",
      "rho_dry   -0.830402  0.042368  0.852126  0.048608  1.000000 -0.981761   \n",
      "z          0.917968 -0.051043 -0.754595 -0.051834 -0.981761  1.000000   \n",
      "exner     -0.895436  0.049731  0.780281  0.051801  0.990237 -0.998527   \n",
      "theta_out  0.999997 -0.051733 -0.505865 -0.042464 -0.830391  0.917952   \n",
      "qc_out    -0.053759  0.962126  0.043958  0.253745  0.045585 -0.053017   \n",
      "qv_out    -0.505792  0.030075  0.999955  0.042369  0.852115 -0.754512   \n",
      "qr_out    -0.044225  0.416287  0.052149  0.971785  0.051632 -0.054208   \n",
      "\n",
      "              exner  theta_out    qc_out    qv_out    qr_out  \n",
      "theta     -0.895436   0.999997 -0.053759 -0.505792 -0.044225  \n",
      "qc         0.049731  -0.051733  0.962126  0.030075  0.416287  \n",
      "qv         0.780281  -0.505865  0.043958  0.999955  0.052149  \n",
      "qr         0.051801  -0.042464  0.253745  0.042369  0.971785  \n",
      "rho_dry    0.990237  -0.830391  0.045585  0.852115  0.051632  \n",
      "z         -0.998527   0.917952 -0.053017 -0.754512 -0.054208  \n",
      "exner      1.000000  -0.895419  0.051963  0.780209  0.054364  \n",
      "theta_out -0.895419   1.000000 -0.052072 -0.505766 -0.042994  \n",
      "qc_out     0.051963  -0.052072  1.000000  0.036691  0.315493  \n",
      "qv_out     0.780209  -0.505766  0.036691  1.000000  0.047165  \n",
      "qr_out     0.054364  -0.042994  0.315493  0.047165  1.000000  \n"
     ]
    }
   ],
   "source": [
    "print(df.corr())"
   ]
  },
  {
   "cell_type": "code",
   "execution_count": 11,
   "id": "28d3f101",
   "metadata": {},
   "outputs": [
    {
     "data": {
      "text/plain": [
       "(array([1.78116311e+03, 1.62930610e+02, 1.23598587e+02, 7.67300796e+01,\n",
       "        3.76161266e+01, 5.62964702e+01, 6.06763074e+01, 1.88421048e+01,\n",
       "        3.29677965e+01, 3.75209127e+01, 2.06460490e+01, 4.68580131e+01,\n",
       "        1.11942824e+01, 1.72326835e+01, 4.69025486e+01, 6.87459374e+00,\n",
       "        1.07351059e+01, 1.69905537e+01, 4.27960673e+01, 3.70822123e+00,\n",
       "        8.77579938e+00, 1.10837115e+01, 1.86396474e+01, 3.51810067e+01,\n",
       "        1.92654481e+00, 4.71999639e+00, 1.03560422e+01, 1.21369508e+01,\n",
       "        2.27778667e+01, 2.42109375e+01, 9.05555406e-01, 1.69106969e+00,\n",
       "        4.47991415e+00, 1.04837618e+01, 1.40660551e+01, 4.46854992e+01,\n",
       "        1.46404096e+00, 9.21680333e-01, 9.63400381e-01, 1.68671852e+00,\n",
       "        9.98004985e+00, 2.74617739e+01, 1.59586096e+02, 2.66388908e+01,\n",
       "        1.21525638e+00, 1.10724496e+00, 8.12645114e-01, 5.97134189e-01,\n",
       "        4.58920532e-01, 1.20041121e-01]),\n",
       " array([7.82831908e-06, 3.33411209e-04, 6.58994098e-04, 9.84576988e-04,\n",
       "        1.31015988e-03, 1.63574277e-03, 1.96132566e-03, 2.28690855e-03,\n",
       "        2.61249143e-03, 2.93807432e-03, 3.26365721e-03, 3.58924010e-03,\n",
       "        3.91482299e-03, 4.24040588e-03, 4.56598877e-03, 4.89157166e-03,\n",
       "        5.21715455e-03, 5.54273744e-03, 5.86832033e-03, 6.19390322e-03,\n",
       "        6.51948611e-03, 6.84506900e-03, 7.17065189e-03, 7.49623478e-03,\n",
       "        7.82181767e-03, 8.14740056e-03, 8.47298345e-03, 8.79856634e-03,\n",
       "        9.12414922e-03, 9.44973211e-03, 9.77531500e-03, 1.01008979e-02,\n",
       "        1.04264808e-02, 1.07520637e-02, 1.10776466e-02, 1.14032295e-02,\n",
       "        1.17288123e-02, 1.20543952e-02, 1.23799781e-02, 1.27055610e-02,\n",
       "        1.30311439e-02, 1.33567268e-02, 1.36823097e-02, 1.40078926e-02,\n",
       "        1.43334755e-02, 1.46590583e-02, 1.49846412e-02, 1.53102241e-02,\n",
       "        1.56358070e-02, 1.59613899e-02, 1.62869728e-02]),\n",
       " <BarContainer object of 50 artists>)"
      ]
     },
     "execution_count": 11,
     "metadata": {},
     "output_type": "execute_result"
    },
    {
     "data": {
      "image/png": "[encoded data removed]",
      "text/plain": [
       "<Figure size 432x288 with 1 Axes>"
      ]
     },
     "metadata": {
      "needs_background": "light"
     },
     "output_type": "display_data"
    }
   ],
   "source": [
    "plt.hist(ds['ml_out_qv'][0:23999999],bins=50, density=True)"
   ]
  },
  {
   "cell_type": "code",
   "execution_count": 17,
   "id": "f807a724",
   "metadata": {
    "scrolled": true
   },
   "outputs": [
    {
     "data": {
      "text/plain": [
       "<AxesSubplot:xlabel='z', ylabel='qr_out'>"
      ]
     },
     "execution_count": 17,
     "metadata": {},
     "output_type": "execute_result"
    },
    {
     "data": {
      "image/png": "[encoded data removed]",
      "text/plain": [
       "<Figure size 432x288 with 1 Axes>"
      ]
     },
     "metadata": {
      "needs_background": "light"
     },
     "output_type": "display_data"
    }
   ],
   "source": [
    "df.plot.scatter(x='z',y='qr_out')"
   ]
  },
  {
   "cell_type": "code",
   "execution_count": 18,
   "id": "747ec087",
   "metadata": {},
   "outputs": [],
   "source": [
    "normDF=(df-df.mean())/df.std()"
   ]
  },
  {
   "cell_type": "code",
   "execution_count": 19,
   "id": "eb287448",
   "metadata": {},
   "outputs": [],
   "source": [
    "from sklearn.neural_network import MLPRegressor\n",
    "from sklearn.model_selection import train_test_split\n",
    "\n",
    "x=normDF[['theta','qc','qv','qr','rho_dry','exner','z']].copy()\n",
    "y=normDF[['theta_out','qc_out','qv_out','qr_out']].copy()\n",
    "\n",
    "xtrain, xtest, ytrain, ytest = train_test_split(x, y, test_size=0.30, random_state=27)"
   ]
  },
  {
   "cell_type": "code",
   "execution_count": 20,
   "id": "2a51c747",
   "metadata": {},
   "outputs": [
    {
     "name": "stdout",
     "output_type": "stream",
     "text": [
      "b\n",
      "d\n",
      "d\n",
      "a\n",
      "d\n",
      "a\n",
      "e\n",
      "a\n",
      "a\n",
      "b\n"
     ]
    }
   ],
   "source": [
    "letters=['a','b','c','d','e']\n",
    "\n",
    "for i in range(10):\n",
    "    print(np.random.choice(letters))"
   ]
  },
  {
   "cell_type": "code",
   "execution_count": 16,
   "id": "6a03356d",
   "metadata": {},
   "outputs": [
    {
     "name": "stdout",
     "output_type": "stream",
     "text": [
      "Iteration 1, loss = 0.00834338\n",
      "Validation score: 0.989479\n",
      "Iteration 2, loss = 0.00491850\n",
      "Validation score: 0.990738\n",
      "Iteration 3, loss = 0.00443658\n",
      "Validation score: 0.991584\n",
      "Iteration 4, loss = 0.00406332\n",
      "Validation score: 0.992119\n",
      "Iteration 5, loss = 0.00380014\n",
      "Validation score: 0.992478\n",
      "Iteration 6, loss = 0.00358443\n",
      "Validation score: 0.993140\n",
      "Iteration 7, loss = 0.00343840\n",
      "Validation score: 0.992859\n",
      "Iteration 8, loss = 0.00330625\n",
      "Validation score: 0.993406\n",
      "Iteration 9, loss = 0.00317536\n",
      "Validation score: 0.993909\n",
      "Iteration 10, loss = 0.00305840\n",
      "Validation score: 0.993508\n",
      "Iteration 11, loss = 0.00293294\n",
      "Validation score: 0.994387\n",
      "Iteration 12, loss = 0.00280186\n",
      "Validation score: 0.994354\n",
      "Iteration 13, loss = 0.00268096\n",
      "Validation score: 0.994885\n",
      "Iteration 14, loss = 0.00256309\n",
      "Validation score: 0.994491\n",
      "Iteration 15, loss = 0.00246370\n",
      "Validation score: 0.994966\n",
      "Iteration 16, loss = 0.00237283\n",
      "Validation score: 0.995331\n",
      "Iteration 17, loss = 0.00228446\n",
      "Validation score: 0.995663\n",
      "Iteration 18, loss = 0.00221119\n",
      "Validation score: 0.995969\n",
      "Iteration 19, loss = 0.00214091\n",
      "Validation score: 0.995979\n",
      "Iteration 20, loss = 0.00207420\n",
      "Validation score: 0.996166\n",
      "Iteration 21, loss = 0.00201674\n",
      "Validation score: 0.996255\n",
      "Iteration 22, loss = 0.00196510\n",
      "Validation score: 0.996276\n",
      "Iteration 23, loss = 0.00192185\n",
      "Validation score: 0.996460\n",
      "Iteration 24, loss = 0.00188606\n",
      "Validation score: 0.996205\n",
      "Iteration 25, loss = 0.00185923\n",
      "Validation score: 0.996453\n",
      "Iteration 26, loss = 0.00183715\n",
      "Validation score: 0.996702\n",
      "Iteration 27, loss = 0.00181224\n",
      "Validation score: 0.996477\n",
      "Iteration 28, loss = 0.00178876\n",
      "Validation score: 0.996521\n",
      "Iteration 29, loss = 0.00177289\n",
      "Validation score: 0.996416\n",
      "Iteration 30, loss = 0.00175413\n",
      "Validation score: 0.996795\n",
      "Iteration 31, loss = 0.00173676\n",
      "Validation score: 0.996428\n",
      "Iteration 32, loss = 0.00172031\n",
      "Validation score: 0.996883\n",
      "Iteration 33, loss = 0.00171460\n",
      "Validation score: 0.996903\n",
      "Iteration 34, loss = 0.00169960\n",
      "Validation score: 0.996481\n",
      "Iteration 35, loss = 0.00168601\n",
      "Validation score: 0.996857\n",
      "Iteration 36, loss = 0.00167103\n",
      "Validation score: 0.996723\n",
      "Iteration 37, loss = 0.00166703\n",
      "Validation score: 0.996808\n",
      "Validation score did not improve more than tol=0.000100 for 10 consecutive epochs. Stopping.\n"
     ]
    },
    {
     "data": {
      "text/plain": [
       "MLPRegressor(early_stopping=True, hidden_layer_sizes=[64, 64],\n",
       "             learning_rate_init=0.0001, max_iter=250, verbose=True)"
      ]
     },
     "execution_count": 16,
     "metadata": {},
     "output_type": "execute_result"
    }
   ],
   "source": [
    "reg=MLPRegressor(hidden_layer_sizes=[64,64],activation='relu', solver='adam',learning_rate_init=1e-4,learning_rate='constant', max_iter=250, early_stopping=True, verbose=True)\n",
    "reg.fit(xtrain,ytrain)\n"
   ]
  },
  {
   "cell_type": "code",
   "execution_count": 21,
   "id": "352c60bf",
   "metadata": {},
   "outputs": [
    {
     "ename": "NameError",
     "evalue": "name 'reg' is not defined",
     "output_type": "error",
     "traceback": [
      "\u001b[0;31m---------------------------------------------------------------------------\u001b[0m",
      "\u001b[0;31mNameError\u001b[0m                                 Traceback (most recent call last)",
      "\u001b[0;32m<ipython-input-21-f47e72c7b8c9>\u001b[0m in \u001b[0;36m<module>\u001b[0;34m\u001b[0m\n\u001b[1;32m      1\u001b[0m \u001b[0;32mfrom\u001b[0m \u001b[0msklearn\u001b[0m\u001b[0;34m.\u001b[0m\u001b[0mmetrics\u001b[0m \u001b[0;32mimport\u001b[0m \u001b[0mr2_score\u001b[0m\u001b[0;34m\u001b[0m\u001b[0;34m\u001b[0m\u001b[0m\n\u001b[1;32m      2\u001b[0m \u001b[0;34m\u001b[0m\u001b[0m\n\u001b[0;32m----> 3\u001b[0;31m \u001b[0mypred\u001b[0m\u001b[0;34m=\u001b[0m\u001b[0mreg\u001b[0m\u001b[0;34m.\u001b[0m\u001b[0mpredict\u001b[0m\u001b[0;34m(\u001b[0m\u001b[0mxtest\u001b[0m\u001b[0;34m)\u001b[0m\u001b[0;34m\u001b[0m\u001b[0;34m\u001b[0m\u001b[0m\n\u001b[0m\u001b[1;32m      4\u001b[0m \u001b[0mplt\u001b[0m\u001b[0;34m.\u001b[0m\u001b[0mplot\u001b[0m\u001b[0;34m(\u001b[0m\u001b[0mreg\u001b[0m\u001b[0;34m.\u001b[0m\u001b[0mloss_curve_\u001b[0m\u001b[0;34m)\u001b[0m\u001b[0;34m\u001b[0m\u001b[0;34m\u001b[0m\u001b[0m\n\u001b[1;32m      5\u001b[0m \u001b[0;34m\u001b[0m\u001b[0m\n",
      "\u001b[0;31mNameError\u001b[0m: name 'reg' is not defined"
     ]
    }
   ],
   "source": [
    "from sklearn.metrics import r2_score\n",
    "\n",
    "ypred=reg.predict(xtest)\n",
    "plt.plot(reg.loss_curve_)\n",
    "\n",
    "print('# of Iterations:',reg.n_iter_,'-----','Final Training Loss=',reg.loss_)\n",
    "print('R^2 test scores ----- AVG=',reg.score(xtest,ytest),'----- by variable:',r2_score(ytest,ypred,multioutput='raw_values') )\n"
   ]
  },
  {
   "cell_type": "code",
   "execution_count": null,
   "id": "858c014d",
   "metadata": {},
   "outputs": [],
   "source": [
    "from sklearn.tree import DecisionTreeRegressor\n",
    "from sklearn.ensemble import RandomForestRegressor\n",
    "\n",
    "regTree= DecisionTreeRegressor(random_state=1, criterion='mae')\n",
    "regTree.fit(xtrain,ytrain)\n",
    "\n",
    "#regRF= RandomForestRegressor(random_state=0)\n",
    "#regRF.fit(xtrain,ytrain)\n"
   ]
  },
  {
   "cell_type": "code",
   "execution_count": null,
   "id": "6e57e940",
   "metadata": {},
   "outputs": [],
   "source": [
    "from sklearn.metrics import r2_score\n",
    "\n",
    "ypredTree=regTree.predict(xtest)\n",
    "#ypredRF=regRF.predict(xtest)\n",
    "\n",
    "print('-----------------------------DT Regressor Results--------------------------')\n",
    "print('# features:',regTree.n_features_,'-----','# outputs:',regTree.n_outputs_)\n",
    "print('R^2 test scores ----- AVG=',regTree.score(xtest,ytest),'----- by variable:',r2_score(ytest,ypredTree,multioutput='raw_values') )\n",
    "\n",
    "\"\"\"\n",
    "print(-----------------------------Random Forrest Results------------------------)\n",
    "print('# features:',regRF.n_features_,'-----','# outputs:',regRF.n_outputs_)\n",
    "print('R^2 test scores ----- AVG=',regRF.score(xtest,ytest),'----- by variable:',r2_score(ytest,ypredRF,multioutput='raw_values') )\n",
    "\"\"\""
   ]
  },
  {
   "cell_type": "code",
   "execution_count": null,
   "id": "be9a53eb",
   "metadata": {},
   "outputs": [],
   "source": [
    "from sklearn.neighbors import KNeighborsRegressor\n",
    "KNR = KNeighborsRegressor(n_neighbors=5)\n",
    "KNR.fit(xtrain, ytrain)\n",
    "\n",
    "ypredKNR=KNR.predict(xtest)\n",
    "print('Metric Used:',KNR.effective_metric_,'-----','# samples:',KNR.n_samples_fit_)\n",
    "print('R^2 test scores ----- AVG=',KNR.score(xtest,ytest),'----- by variable:',r2_score(ytest,ypredKNR,multioutput='raw_values') )"
   ]
  },
  {
   "cell_type": "code",
   "execution_count": null,
   "id": "c6d465b0",
   "metadata": {},
   "outputs": [],
   "source": [
    "\"\"\"\n",
    "Measuring number of no-op samples\n",
    "\n",
    "ml_in_theta(isample,1) == ml_out_theta(isample) &&\n",
    "ml_in_qv   (isample,1) == ml_out_qv   (isample) && \n",
    "ml_in_qc   (isample,1) == ml_out_qc   (isample) &&\n",
    "ml_in_qr   (isample,1) == ml_out_qr   (isample)\n",
    "\"\"\"\n",
    "count=0\n",
    "\n",
    "for i in range(24000000):\n",
    "    if ds['ml_in_theta'][i,1]==ds['ml_out_theta'][i] and ds['ml_in_qv'][i,1]==ds['ml_out_qv'][i] and ds['ml_in_qc'][i,1]==ds['ml_out_qc'][i] and ds['ml_in_qr'][i,1]==ds['ml_out_qr'][i]:\n",
    "         count+=1\n",
    "          \n"
   ]
  },
  {
   "cell_type": "code",
   "execution_count": null,
   "id": "651d87a2",
   "metadata": {},
   "outputs": [],
   "source": [
    "print('% of no-op data=',(count/24000000)*100)"
   ]
  },
  {
   "cell_type": "code",
   "execution_count": null,
   "id": "ffc9d255",
   "metadata": {},
   "outputs": [],
   "source": []
  }
 ],
 "metadata": {
  "kernelspec": {
   "display_name": "Python 3",
   "language": "python",
   "name": "python3"
  },
  "language_info": {
   "codemirror_mode": {
    "name": "ipython",
    "version": 3
   },
   "file_extension": ".py",
   "mimetype": "text/x-python",
   "name": "python",
   "nbconvert_exporter": "python",
   "pygments_lexer": "ipython3",
   "version": "3.8.10"
  }
 },
 "nbformat": 4,
 "nbformat_minor": 5
}
